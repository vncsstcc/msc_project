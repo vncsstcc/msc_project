{
 "cells": [
  {
   "cell_type": "markdown",
   "source": [
    "# Creates the fakerecogna_processed.csv dataset\n",
    "##### Entries with class 1 are real news \n",
    "##### Entries with class 0 are fake news"
   ],
   "metadata": {
    "collapsed": false
   },
   "id": "27bb91eaece9fd13"
  },
  {
   "cell_type": "code",
   "execution_count": 1,
   "id": "initial_id",
   "metadata": {
    "collapsed": true,
    "ExecuteTime": {
     "end_time": "2024-08-17T23:06:04.092036Z",
     "start_time": "2024-08-17T23:05:59.793996Z"
    }
   },
   "outputs": [
    {
     "name": "stdout",
     "output_type": "stream",
     "text": [
      "Data has been processed and saved to fakerecogna_processed.csv\n"
     ]
    }
   ],
   "source": [
    "import pandas as pd\n",
    "from sklearn.model_selection import train_test_split\n",
    "\n",
    "# Load the original dataset\n",
    "file_path = './FakeRecogna.csv'\n",
    "df = pd.read_csv(file_path, encoding='latin1')\n",
    "\n",
    "# Rename the columns\n",
    "df = df.rename(columns={\n",
    "    'Noticia': 'news',\n",
    "    'Classe': 'class'\n",
    "})\n",
    "\n",
    "# Drop rows where ratingValue is empty\n",
    "df = df.dropna(subset=['news', 'class'])\n",
    "\n",
    "# Select only the required columns\n",
    "filtered_df = df[['news', 'class']]\n",
    "\n",
    "# Filter rows where class is 0 or 1\n",
    "filtered_df = filtered_df[filtered_df['class'].isin([0, 1])]\n",
    "\n",
    "# Ensure the class column is of integer type\n",
    "filtered_df['class'] = filtered_df['class'].astype(int)\n",
    "\n",
    "# Apply lower case to all values in the column \"news\"\n",
    "filtered_df['news'] = filtered_df['news'].str.lower()\n",
    "\n",
    "filtered_df_file_path = './fakerecogna_processed.csv'\n",
    "filtered_df.to_csv(filtered_df_file_path, index=False)\n",
    "\n",
    "print(\"Data has been processed and saved to fakerecogna_processed.csv\")"
   ]
  }
 ],
 "metadata": {
  "kernelspec": {
   "display_name": "Python 3",
   "language": "python",
   "name": "python3"
  },
  "language_info": {
   "codemirror_mode": {
    "name": "ipython",
    "version": 2
   },
   "file_extension": ".py",
   "mimetype": "text/x-python",
   "name": "python",
   "nbconvert_exporter": "python",
   "pygments_lexer": "ipython2",
   "version": "2.7.6"
  }
 },
 "nbformat": 4,
 "nbformat_minor": 5
}
