{
 "cells": [
  {
   "cell_type": "code",
   "outputs": [
    {
     "name": "stdout",
     "output_type": "stream",
     "text": [
      "New CSV file created at: ./mixed_dataset.csv\n"
     ]
    }
   ],
   "source": [
    "import pandas as pd\n",
    "\n",
    "# Load the datasets\n",
    "factckbr_df = pd.read_csv('../factckbr_dataset/factckbr_processed.csv')\n",
    "fakerecogna_df = pd.read_csv('../fakerecogna_dataset/fakerecogna_processed.csv')\n",
    "llm_fake_news_df = pd.read_csv('./fake_news_llama_3_8b_instruct_processed_train.csv')\n",
    "\n",
    "# Clean the class column to remove entries where the class is '<unset>' or not a digit\n",
    "factckbr_df = factckbr_df[factckbr_df['class'].apply(lambda x: str(x).isdigit())]\n",
    "fakerecogna_df = fakerecogna_df[fakerecogna_df['class'].apply(lambda x: str(x).isdigit())]\n",
    "\n",
    "# Convert class column to integer\n",
    "factckbr_df['class'] = factckbr_df['class'].astype(int)\n",
    "fakerecogna_df['class'] = fakerecogna_df['class'].astype(int)\n",
    "\n",
    "filtered_factckbr_df = factckbr_df[['news', 'class']]\n",
    "filtered_fakerecogna_df = fakerecogna_df[['news', 'class']]\n",
    "\n",
    "# Combine the two datasets\n",
    "combined_df = pd.concat([filtered_factckbr_df, filtered_fakerecogna_df])\n",
    "\n",
    "# Filter the new dataset to include only 'news' column and add 'class' column with value 0(fake news)\n",
    "llm_fake_news_df = llm_fake_news_df[['news']]\n",
    "llm_fake_news_df['class'] = 0\n",
    "\n",
    "# Combine the new dataset with the previously filtered datasets\n",
    "combined_df_with_new = pd.concat([combined_df, llm_fake_news_df])\n",
    "\n",
    "# Save the combined dataset to a new CSV file\n",
    "output_file_path = './mixed_dataset.csv'\n",
    "combined_df_with_new.to_csv(output_file_path, index=False)\n",
    "\n",
    "print(f\"New CSV file created at: {output_file_path}\")\n"
   ],
   "metadata": {
    "collapsed": false,
    "ExecuteTime": {
     "end_time": "2024-08-18T20:57:31.436653Z",
     "start_time": "2024-08-18T20:57:30.990762Z"
    }
   },
   "id": "5695f370dd733fe0",
   "execution_count": 2
  }
 ],
 "metadata": {
  "kernelspec": {
   "display_name": "Python 3",
   "language": "python",
   "name": "python3"
  },
  "language_info": {
   "codemirror_mode": {
    "name": "ipython",
    "version": 2
   },
   "file_extension": ".py",
   "mimetype": "text/x-python",
   "name": "python",
   "nbconvert_exporter": "python",
   "pygments_lexer": "ipython2",
   "version": "2.7.6"
  }
 },
 "nbformat": 4,
 "nbformat_minor": 5
}
