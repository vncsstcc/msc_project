{
 "cells": [
  {
   "cell_type": "markdown",
   "source": [
    "# Creates the fake_news_llama_3_8b_instruct_processed.csv\n",
    "###### The generated \"fake_news_llama_3_8b_instruct.csv\" file has the title, subtitle and the actual fake news all under the same column \"fake_news\". The goal of this script is to split that into different columns. For the purpose of this project, models will be trained using only the column \"news\" and \"class\"."
   ],
   "metadata": {
    "collapsed": false
   },
   "id": "82a3d14abf3b5a47"
  },
  {
   "cell_type": "code",
   "execution_count": 3,
   "id": "initial_id",
   "metadata": {
    "collapsed": true,
    "ExecuteTime": {
     "end_time": "2024-08-18T19:14:35.549010Z",
     "start_time": "2024-08-18T19:14:34.761188Z"
    }
   },
   "outputs": [
    {
     "name": "stdout",
     "output_type": "stream",
     "text": [
      "Processing complete. Processed file saved to: ./fake_news_llama_3_8b_instruct_processed.csv\n"
     ]
    }
   ],
   "source": [
    "import pandas as pd\n",
    "import re\n",
    "\n",
    "# Load the dataset with the correct encoding\n",
    "file_path = './fake_news_llama_3_8b_instruct.csv'\n",
    "df = pd.read_csv(file_path, encoding='utf-8')\n",
    "\n",
    "# Convert all columns to lowercase\n",
    "df = df.apply(lambda x: x.str.lower() if x.dtype == \"object\" else x)\n",
    "\n",
    "# Improved function to extract sections\n",
    "def extract_section(text, section, section_en):\n",
    "    # Patterns with and without ** notation\n",
    "    patterns = [\n",
    "        rf\"\\*\\*{section}:\\*\\*(.*?)(?=\\*\\*|$)\",\n",
    "        rf\"{section}:(.*?)(?:\\*\\*|título|subtítulo|conteúdo|$)\",\n",
    "        rf\"{section_en}:(.*?)(?:\\*\\*|title|subtitle|content|$)\"\n",
    "    ]\n",
    "    for pattern in patterns:\n",
    "        match = re.search(pattern, text, re.DOTALL | re.IGNORECASE)\n",
    "        if match:\n",
    "            return match.group(1).strip()\n",
    "\n",
    "    # Post-processing to handle missing \"conteúdo\" or \"content\" sections\n",
    "    if section.lower() == \"conteúdo\" or section_en.lower() == \"content\":\n",
    "        # Define keywords that mark the start of sections\n",
    "        start_keywords = [\"**título:**\", \"**subtítulo:**\", \"título:\", \"subtítulo:\", \"**title:**\", \"**subtitle:**\", \"title:\", \"subtitle:\"]\n",
    "\n",
    "        # Find the positions of start keywords\n",
    "        positions = [m.end() for keyword in start_keywords for m in re.finditer(re.escape(keyword), text, re.IGNORECASE)]\n",
    "\n",
    "        if positions:\n",
    "            # Content starts after the last start keyword\n",
    "            content_start = max(positions)\n",
    "\n",
    "            # Find the position of the next newline after content_start\n",
    "            next_newline = text.find('\\n', content_start)\n",
    "\n",
    "            if next_newline != -1:\n",
    "                # Extract content after the next newline\n",
    "                return text[next_newline:].strip()\n",
    "            else:\n",
    "                # If no newline is found, return from content_start to end\n",
    "                return text[content_start:].strip()\n",
    "\n",
    "    return \"\"\n",
    "\n",
    "# Extract Título(title), Subtítulo(subtitle), and Conteúdo(content)\n",
    "df['title'] = df['fake_news'].apply(lambda x: extract_section(x, 'título', 'title'))\n",
    "df['subtitle'] = df['fake_news'].apply(lambda x: extract_section(x, 'subtítulo', 'subtitle'))\n",
    "df['news'] = df['fake_news'].apply(lambda x: extract_section(x, 'conteúdo', 'content'))\n",
    "\n",
    "# Add a new column 'class' with all entries set to 0\n",
    "df['class'] = 0\n",
    "\n",
    "# Save the processed dataframe to a new CSV file\n",
    "output_path = './fake_news_llama_3_8b_instruct_processed.csv'\n",
    "df.to_csv(output_path, index=False)\n",
    "\n",
    "print(\"Processing complete. Processed file saved to:\", output_path)"
   ]
  }
 ],
 "metadata": {
  "kernelspec": {
   "display_name": "Python 3",
   "language": "python",
   "name": "python3"
  },
  "language_info": {
   "codemirror_mode": {
    "name": "ipython",
    "version": 2
   },
   "file_extension": ".py",
   "mimetype": "text/x-python",
   "name": "python",
   "nbconvert_exporter": "python",
   "pygments_lexer": "ipython2",
   "version": "2.7.6"
  }
 },
 "nbformat": 4,
 "nbformat_minor": 5
}
