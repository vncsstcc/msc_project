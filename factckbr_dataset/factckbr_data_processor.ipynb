{
 "cells": [
  {
   "cell_type": "markdown",
   "source": [
    "# Creates the factckbr_processed.csv dataset\n",
    "\n",
    "##### Entries with class 1 are real news in the factckbr_processed.csv\n",
    "##### Entries with class 0 are fake news in the factckbr_processed.csv"
   ],
   "metadata": {
    "collapsed": false
   },
   "id": "fe86af859b59e77e"
  },
  {
   "cell_type": "code",
   "execution_count": 1,
   "id": "initial_id",
   "metadata": {
    "collapsed": true,
    "ExecuteTime": {
     "end_time": "2024-08-17T23:07:36.980704Z",
     "start_time": "2024-08-17T23:07:36.523263Z"
    }
   },
   "outputs": [],
   "source": [
    "import pandas as pd\n",
    "\n",
    "# Load the original dataset\n",
    "file_path = './FACTCKBR.tsv'\n",
    "df = pd.read_csv(file_path, sep='\\t')\n",
    "\n",
    "# Drop rows where ratingValue is empty\n",
    "df = df.dropna(subset=['ratingValue'])\n",
    "\n",
    "# Apply lower case to all values in the column \"alternativeName\"\n",
    "df['alternativeName'] = df['alternativeName'].str.lower()\n",
    "\n",
    "# Update ratingValue based on the value in \"alternativeName\"\n",
    "df.loc[df['alternativeName'] == 'falso', 'ratingValue'] = 0\n",
    "df.loc[df['alternativeName'] == 'verdadeiro', 'ratingValue'] = 1\n",
    "\n",
    "# Select only the required columns\n",
    "filtered_df = df[['claimReviewed', 'ratingValue']]\n",
    "\n",
    "# Rename the columns\n",
    "filtered_df = filtered_df.rename(columns={\n",
    "    'claimReviewed': 'news',\n",
    "    'ratingValue': 'class'\n",
    "})\n",
    "\n",
    "# Ensure the class column is of integer type\n",
    "filtered_df['class'] = filtered_df['class'].astype(int)\n",
    "\n",
    "# Filter rows where class is 0 or 1\n",
    "filtered_df = filtered_df[filtered_df['class'].isin([0, 1])]\n",
    "\n",
    "filtered_df['news'] = filtered_df['news'].str.lower()\n",
    "\n",
    "# Save the filtered DataFrame to a new CSV file with comma delimiter\n",
    "output_file_path = './factckbr_processed.csv'\n",
    "filtered_df.to_csv(output_file_path, index=False)"
   ]
  }
 ],
 "metadata": {
  "kernelspec": {
   "display_name": "Python 3",
   "language": "python",
   "name": "python3"
  },
  "language_info": {
   "codemirror_mode": {
    "name": "ipython",
    "version": 2
   },
   "file_extension": ".py",
   "mimetype": "text/x-python",
   "name": "python",
   "nbconvert_exporter": "python",
   "pygments_lexer": "ipython2",
   "version": "2.7.6"
  }
 },
 "nbformat": 4,
 "nbformat_minor": 5
}
